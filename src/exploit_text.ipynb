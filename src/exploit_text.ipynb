{
 "cells": [
  {
   "cell_type": "code",
   "execution_count": null,
   "metadata": {},
   "outputs": [],
   "source": [
    "import sys\n",
    "\n",
    "sys.path.append(r\"./..\")\n",
    "\n",
    "import os\n",
    "import re\n",
    "from collections import Counter\n",
    "from statistics import mean, median\n",
    "\n",
    "import matplotlib.pyplot as plt\n",
    "import pandas as pd\n",
    "from resources.stop_words_french import french_stop_words\n",
    "from wordcloud import WordCloud"
   ]
  }
 ],
 "metadata": {
  "language_info": {
   "name": "python"
  }
 },
 "nbformat": 4,
 "nbformat_minor": 2
}
